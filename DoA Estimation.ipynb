{
 "cells": [
  {
   "cell_type": "code",
   "execution_count": 83,
   "metadata": {},
   "outputs": [],
   "source": [
    "import numpy as np\n",
    "import matplotlib.pyplot as plt\n",
    "import random\n",
    "np.random.seed(12)\n"
   ]
  },
  {
   "cell_type": "markdown",
   "metadata": {},
   "source": [
    "A variável $\\Delta$ é referente ao espaço entre as antenas.\n",
    "\n",
    "A variável $M$ é referente ao número de antenas\n",
    "\n",
    "A variável $d$ se refere a chegada do sinal\n",
    "\n",
    "O tempo de chegada do sinal em cada antena é definido por:\n",
    "\n",
    "$\\tau_M(\\theta_i) = (M-1)\\frac{\\Delta \\sin{\\theta_i}}{c}$\n",
    "\n",
    "As frequencias espaciais são:\n",
    "\n",
    "$\\mu_i = - \\frac{2\\pi f_c}{c}\\Delta \\sin(\\theta_i) \\therefore \\mu_i = -\\pi \\sin(\\theta_i)$ se $\\Delta = \\frac{\\lambda}{2}$\n",
    "\n",
    "\n",
    "\n",
    "A matriz tem formato $M\\times d$"
   ]
  },
  {
   "cell_type": "code",
   "execution_count": 109,
   "metadata": {},
   "outputs": [
    {
     "name": "stdout",
     "output_type": "stream",
     "text": [
      "O valor da distância entre cada antena é de 0.06 metros\n"
     ]
    }
   ],
   "source": [
    "# Definindo os parametros a serem utilizados\n",
    "\n",
    "c_velocity = 3e8\n",
    "frequency = 2.4e9 # 2.4 GHz\n",
    "wavelength = c_velocity / frequency\n",
    "delta = wavelength / 2 # Espaço entre cada antena\n",
    "\n",
    "m_antennas = 7 # Número de antenas\n",
    "d_chegada = 3 # Distância de chegada\n",
    "theta_i = np.arange(-60, 61, 1) # Ângulos de chegada\n",
    "theta_i = np.radians(theta_i)\n",
    "print(f'O valor da distância entre cada antena é de {delta:.2f} metros')\n"
   ]
  },
  {
   "cell_type": "code",
   "execution_count": 110,
   "metadata": {},
   "outputs": [
    {
     "name": "stdout",
     "output_type": "stream",
     "text": [
      "[[ 1.        +0.j          1.        +0.j          1.        +0.j        ]\n",
      " [-0.9127242 +0.40857623j -0.90100218+0.43381455j -0.88820588+0.45944566j]\n",
      " [ 0.66613092-0.74583483j  0.62360987-0.78173572j  0.57781937-0.81616467j]\n",
      " [-0.30326343+0.95290676j -0.22274553+0.97487662j -0.13823925+0.99039886j]\n",
      " [-0.11253919-0.99364729j -0.22222146-0.97499622j -0.33224955-0.94319152j]\n",
      " [ 0.5086979 +0.86094509j  0.62318957+0.78207082j  0.72845125+0.68509764j]\n",
      " [-0.81606259-0.57796354j -0.90076886-0.43429881j -0.96177982-0.27382399j]]\n"
     ]
    }
   ],
   "source": [
    "# Fazendo os cálculos necessários\n",
    "mu_spatial_frequency = -np.pi*np.sin(theta_i)\n",
    "\n",
    "A_ula = np.zeros((m_antennas, d_chegada), dtype=complex)\n",
    "A_ula_mod = np.zeros((m_antennas, d_chegada))\n",
    "A_ula_phase = np.zeros((m_antennas, d_chegada))\n",
    "\n",
    "for col in range (d_chegada):\n",
    "    for row in range (m_antennas):\n",
    "        A_ula[row, col] = np.exp(1j*row*mu_spatial_frequency[col])\n",
    "        #A_ula_mod[row, col] = np.abs(A_ula[row, col])\n",
    "        #A_ula_phase[row, col] = np.angle(A_ula[row, col])\n",
    "\n",
    "print(A_ula)"
   ]
  }
 ],
 "metadata": {
  "kernelspec": {
   "display_name": "base",
   "language": "python",
   "name": "python3"
  },
  "language_info": {
   "codemirror_mode": {
    "name": "ipython",
    "version": 3
   },
   "file_extension": ".py",
   "mimetype": "text/x-python",
   "name": "python",
   "nbconvert_exporter": "python",
   "pygments_lexer": "ipython3",
   "version": "3.11.5"
  }
 },
 "nbformat": 4,
 "nbformat_minor": 2
}
